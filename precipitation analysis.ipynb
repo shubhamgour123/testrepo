{
    "cells": [
        {
            "cell_type": "markdown",
            "metadata": {},
            "source": "<h1>Description</h1>"
        },
        {
            "cell_type": "code",
            "execution_count": 2,
            "metadata": {
                "scrolled": true
            },
            "outputs": [
                {
                    "data": {
                        "text/html": "<div>\n<style scoped>\n    .dataframe tbody tr th:only-of-type {\n        vertical-align: middle;\n    }\n\n    .dataframe tbody tr th {\n        vertical-align: top;\n    }\n\n    .dataframe thead th {\n        text-align: right;\n    }\n</style>\n<table border=\"1\" class=\"dataframe\">\n  <thead>\n    <tr style=\"text-align: right;\">\n      <th></th>\n      <th>Monthly Budget</th>\n      <th>Unnamed: 1</th>\n      <th>Unnamed: 2</th>\n      <th>Unnamed: 3</th>\n      <th>Unnamed: 4</th>\n      <th>Unnamed: 5</th>\n    </tr>\n  </thead>\n  <tbody>\n    <tr>\n      <th>0</th>\n      <td>NaN</td>\n      <td>NaN</td>\n      <td>NaN</td>\n      <td>NaN</td>\n      <td>NaN</td>\n      <td>NaN</td>\n    </tr>\n    <tr>\n      <th>1</th>\n      <td>NaN</td>\n      <td>NaN</td>\n      <td>NaN</td>\n      <td>NaN</td>\n      <td>NaN</td>\n      <td>NaN</td>\n    </tr>\n    <tr>\n      <th>2</th>\n      <td>Bills</td>\n      <td>2016-01-01 00:00:00</td>\n      <td>2016-02-01 00:00:00</td>\n      <td>2016-03-01 00:00:00</td>\n      <td>Total</td>\n      <td>Percent</td>\n    </tr>\n    <tr>\n      <th>3</th>\n      <td>Rent</td>\n      <td>1200</td>\n      <td>1200</td>\n      <td>1200</td>\n      <td>3600</td>\n      <td>0.611725</td>\n    </tr>\n    <tr>\n      <th>4</th>\n      <td>Car</td>\n      <td>250</td>\n      <td>250</td>\n      <td>250</td>\n      <td>750</td>\n      <td>0.127443</td>\n    </tr>\n  </tbody>\n</table>\n</div>",
                        "text/plain": "  Monthly Budget           Unnamed: 1           Unnamed: 2  \\\n0            NaN                  NaN                  NaN   \n1            NaN                  NaN                  NaN   \n2          Bills  2016-01-01 00:00:00  2016-02-01 00:00:00   \n3           Rent                 1200                 1200   \n4            Car                  250                  250   \n\n            Unnamed: 3 Unnamed: 4 Unnamed: 5  \n0                  NaN        NaN        NaN  \n1                  NaN        NaN        NaN  \n2  2016-03-01 00:00:00      Total    Percent  \n3                 1200       3600   0.611725  \n4                  250        750   0.127443  "
                    },
                    "execution_count": 2,
                    "metadata": {},
                    "output_type": "execute_result"
                }
            ],
            "source": "# The code was removed by Watson Studio for sharing."
        }
    ],
    "metadata": {
        "kernelspec": {
            "display_name": "Python 3.9",
            "language": "python",
            "name": "python3"
        },
        "language_info": {
            "codemirror_mode": {
                "name": "ipython",
                "version": 3
            },
            "file_extension": ".py",
            "mimetype": "text/x-python",
            "name": "python",
            "nbconvert_exporter": "python",
            "pygments_lexer": "ipython3",
            "version": "3.9.7"
        }
    },
    "nbformat": 4,
    "nbformat_minor": 1
}